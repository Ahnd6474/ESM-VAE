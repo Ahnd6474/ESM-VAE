{
 "cells": [
  {
   "cell_type": "code",
   "execution_count": 1,
   "id": "14fe3de4",
   "metadata": {
    "_cell_guid": "b1076dfc-b9ad-4769-8c92-a6c4dae69d19",
    "_uuid": "8f2839f25d086af736a60e9eeb907d3b93b6e0e5",
    "execution": {
     "iopub.execute_input": "2025-06-27T05:35:18.970149Z",
     "iopub.status.busy": "2025-06-27T05:35:18.969622Z",
     "iopub.status.idle": "2025-06-27T05:35:44.971862Z",
     "shell.execute_reply": "2025-06-27T05:35:44.970894Z"
    },
    "papermill": {
     "duration": 26.007669,
     "end_time": "2025-06-27T05:35:44.973483",
     "exception": false,
     "start_time": "2025-06-27T05:35:18.965814",
     "status": "completed"
    },
    "tags": []
   },
   "outputs": [
    {
     "name": "stdout",
     "output_type": "stream",
     "text": [
      "Cloning into 'ESMS-VAE'...\r\n",
      "remote: Enumerating objects: 626, done.\u001b[K\r\n",
      "remote: Counting objects: 100% (104/104), done.\u001b[K\r\n",
      "remote: Compressing objects: 100% (85/85), done.\u001b[K\r\n",
      "remote: Total 626 (delta 51), reused 18 (delta 18), pack-reused 522 (from 2)\u001b[K\r\n",
      "Receiving objects: 100% (626/626), 398.09 MiB | 22.66 MiB/s, done.\r\n",
      "Resolving deltas: 100% (188/188), done.\r\n",
      "Updating files: 100% (257/257), done.\r\n"
     ]
    }
   ],
   "source": [
    "!git clone https://github.com/Ahnd6474/ESMS-VAE"
   ]
  },
  {
   "cell_type": "code",
   "execution_count": 2,
   "id": "dd4f65a6",
   "metadata": {
    "execution": {
     "iopub.execute_input": "2025-06-27T05:35:44.988527Z",
     "iopub.status.busy": "2025-06-27T05:35:44.988274Z",
     "iopub.status.idle": "2025-06-27T05:35:44.993879Z",
     "shell.execute_reply": "2025-06-27T05:35:44.993269Z"
    },
    "papermill": {
     "duration": 0.014122,
     "end_time": "2025-06-27T05:35:44.995048",
     "exception": false,
     "start_time": "2025-06-27T05:35:44.980926",
     "status": "completed"
    },
    "tags": []
   },
   "outputs": [
    {
     "name": "stdout",
     "output_type": "stream",
     "text": [
      "/kaggle/working/ESMS-VAE\n"
     ]
    }
   ],
   "source": [
    "%cd /kaggle/working/ESMS-VAE"
   ]
  },
  {
   "cell_type": "code",
   "execution_count": 3,
   "id": "4e761972",
   "metadata": {
    "execution": {
     "iopub.execute_input": "2025-06-27T05:35:45.009120Z",
     "iopub.status.busy": "2025-06-27T05:35:45.008878Z",
     "iopub.status.idle": "2025-06-27T05:37:09.726786Z",
     "shell.execute_reply": "2025-06-27T05:37:09.725754Z"
    },
    "papermill": {
     "duration": 84.726679,
     "end_time": "2025-06-27T05:37:09.728367",
     "exception": false,
     "start_time": "2025-06-27T05:35:45.001688",
     "status": "completed"
    },
    "tags": []
   },
   "outputs": [
    {
     "name": "stdout",
     "output_type": "stream",
     "text": [
      "Requirement already satisfied: torch in /usr/local/lib/python3.11/dist-packages (from -r requirements.txt (line 2)) (2.6.0+cu124)\r\n",
      "Collecting fair-esm (from -r requirements.txt (line 3))\r\n",
      "  Downloading fair_esm-2.0.0-py3-none-any.whl.metadata (37 kB)\r\n",
      "Collecting biopython (from -r requirements.txt (line 4))\r\n",
      "  Downloading biopython-1.85-cp311-cp311-manylinux_2_17_x86_64.manylinux2014_x86_64.whl.metadata (13 kB)\r\n",
      "Requirement already satisfied: pandas in /usr/local/lib/python3.11/dist-packages (from -r requirements.txt (line 5)) (2.2.3)\r\n",
      "Requirement already satisfied: scikit-learn in /usr/local/lib/python3.11/dist-packages (from -r requirements.txt (line 6)) (1.2.2)\r\n",
      "Requirement already satisfied: PyYAML in /usr/local/lib/python3.11/dist-packages (from -r requirements.txt (line 7)) (6.0.2)\r\n",
      "Requirement already satisfied: tqdm in /usr/local/lib/python3.11/dist-packages (from -r requirements.txt (line 8)) (4.67.1)\r\n",
      "Requirement already satisfied: sphinx in /usr/local/lib/python3.11/dist-packages (from -r requirements.txt (line 11)) (8.2.3)\r\n",
      "Requirement already satisfied: filelock in /usr/local/lib/python3.11/dist-packages (from torch->-r requirements.txt (line 2)) (3.18.0)\r\n",
      "Requirement already satisfied: typing-extensions>=4.10.0 in /usr/local/lib/python3.11/dist-packages (from torch->-r requirements.txt (line 2)) (4.13.2)\r\n",
      "Requirement already satisfied: networkx in /usr/local/lib/python3.11/dist-packages (from torch->-r requirements.txt (line 2)) (3.4.2)\r\n",
      "Requirement already satisfied: jinja2 in /usr/local/lib/python3.11/dist-packages (from torch->-r requirements.txt (line 2)) (3.1.6)\r\n",
      "Requirement already satisfied: fsspec in /usr/local/lib/python3.11/dist-packages (from torch->-r requirements.txt (line 2)) (2025.3.2)\r\n",
      "Requirement already satisfied: nvidia-cuda-nvrtc-cu12==12.4.127 in /usr/local/lib/python3.11/dist-packages (from torch->-r requirements.txt (line 2)) (12.4.127)\r\n",
      "Requirement already satisfied: nvidia-cuda-runtime-cu12==12.4.127 in /usr/local/lib/python3.11/dist-packages (from torch->-r requirements.txt (line 2)) (12.4.127)\r\n",
      "Requirement already satisfied: nvidia-cuda-cupti-cu12==12.4.127 in /usr/local/lib/python3.11/dist-packages (from torch->-r requirements.txt (line 2)) (12.4.127)\r\n",
      "Collecting nvidia-cudnn-cu12==9.1.0.70 (from torch->-r requirements.txt (line 2))\r\n",
      "  Downloading nvidia_cudnn_cu12-9.1.0.70-py3-none-manylinux2014_x86_64.whl.metadata (1.6 kB)\r\n",
      "Collecting nvidia-cublas-cu12==12.4.5.8 (from torch->-r requirements.txt (line 2))\r\n",
      "  Downloading nvidia_cublas_cu12-12.4.5.8-py3-none-manylinux2014_x86_64.whl.metadata (1.5 kB)\r\n",
      "Collecting nvidia-cufft-cu12==11.2.1.3 (from torch->-r requirements.txt (line 2))\r\n",
      "  Downloading nvidia_cufft_cu12-11.2.1.3-py3-none-manylinux2014_x86_64.whl.metadata (1.5 kB)\r\n",
      "Collecting nvidia-curand-cu12==10.3.5.147 (from torch->-r requirements.txt (line 2))\r\n",
      "  Downloading nvidia_curand_cu12-10.3.5.147-py3-none-manylinux2014_x86_64.whl.metadata (1.5 kB)\r\n",
      "Collecting nvidia-cusolver-cu12==11.6.1.9 (from torch->-r requirements.txt (line 2))\r\n",
      "  Downloading nvidia_cusolver_cu12-11.6.1.9-py3-none-manylinux2014_x86_64.whl.metadata (1.6 kB)\r\n",
      "Collecting nvidia-cusparse-cu12==12.3.1.170 (from torch->-r requirements.txt (line 2))\r\n",
      "  Downloading nvidia_cusparse_cu12-12.3.1.170-py3-none-manylinux2014_x86_64.whl.metadata (1.6 kB)\r\n",
      "Requirement already satisfied: nvidia-cusparselt-cu12==0.6.2 in /usr/local/lib/python3.11/dist-packages (from torch->-r requirements.txt (line 2)) (0.6.2)\r\n",
      "Requirement already satisfied: nvidia-nccl-cu12==2.21.5 in /usr/local/lib/python3.11/dist-packages (from torch->-r requirements.txt (line 2)) (2.21.5)\r\n",
      "Requirement already satisfied: nvidia-nvtx-cu12==12.4.127 in /usr/local/lib/python3.11/dist-packages (from torch->-r requirements.txt (line 2)) (12.4.127)\r\n",
      "Collecting nvidia-nvjitlink-cu12==12.4.127 (from torch->-r requirements.txt (line 2))\r\n",
      "  Downloading nvidia_nvjitlink_cu12-12.4.127-py3-none-manylinux2014_x86_64.whl.metadata (1.5 kB)\r\n",
      "Requirement already satisfied: triton==3.2.0 in /usr/local/lib/python3.11/dist-packages (from torch->-r requirements.txt (line 2)) (3.2.0)\r\n",
      "Requirement already satisfied: sympy==1.13.1 in /usr/local/lib/python3.11/dist-packages (from torch->-r requirements.txt (line 2)) (1.13.1)\r\n",
      "Requirement already satisfied: mpmath<1.4,>=1.1.0 in /usr/local/lib/python3.11/dist-packages (from sympy==1.13.1->torch->-r requirements.txt (line 2)) (1.3.0)\r\n",
      "Requirement already satisfied: numpy in /usr/local/lib/python3.11/dist-packages (from biopython->-r requirements.txt (line 4)) (1.26.4)\r\n",
      "Requirement already satisfied: python-dateutil>=2.8.2 in /usr/local/lib/python3.11/dist-packages (from pandas->-r requirements.txt (line 5)) (2.9.0.post0)\r\n",
      "Requirement already satisfied: pytz>=2020.1 in /usr/local/lib/python3.11/dist-packages (from pandas->-r requirements.txt (line 5)) (2025.2)\r\n",
      "Requirement already satisfied: tzdata>=2022.7 in /usr/local/lib/python3.11/dist-packages (from pandas->-r requirements.txt (line 5)) (2025.2)\r\n",
      "Requirement already satisfied: scipy>=1.3.2 in /usr/local/lib/python3.11/dist-packages (from scikit-learn->-r requirements.txt (line 6)) (1.15.2)\r\n",
      "Requirement already satisfied: joblib>=1.1.1 in /usr/local/lib/python3.11/dist-packages (from scikit-learn->-r requirements.txt (line 6)) (1.5.0)\r\n",
      "Requirement already satisfied: threadpoolctl>=2.0.0 in /usr/local/lib/python3.11/dist-packages (from scikit-learn->-r requirements.txt (line 6)) (3.6.0)\r\n",
      "Requirement already satisfied: sphinxcontrib-applehelp>=1.0.7 in /usr/local/lib/python3.11/dist-packages (from sphinx->-r requirements.txt (line 11)) (2.0.0)\r\n",
      "Requirement already satisfied: sphinxcontrib-devhelp>=1.0.6 in /usr/local/lib/python3.11/dist-packages (from sphinx->-r requirements.txt (line 11)) (2.0.0)\r\n",
      "Requirement already satisfied: sphinxcontrib-htmlhelp>=2.0.6 in /usr/local/lib/python3.11/dist-packages (from sphinx->-r requirements.txt (line 11)) (2.1.0)\r\n",
      "Requirement already satisfied: sphinxcontrib-jsmath>=1.0.1 in /usr/local/lib/python3.11/dist-packages (from sphinx->-r requirements.txt (line 11)) (1.0.1)\r\n",
      "Requirement already satisfied: sphinxcontrib-qthelp>=1.0.6 in /usr/local/lib/python3.11/dist-packages (from sphinx->-r requirements.txt (line 11)) (2.0.0)\r\n",
      "Requirement already satisfied: sphinxcontrib-serializinghtml>=1.1.9 in /usr/local/lib/python3.11/dist-packages (from sphinx->-r requirements.txt (line 11)) (2.0.0)\r\n",
      "Requirement already satisfied: Pygments>=2.17 in /usr/local/lib/python3.11/dist-packages (from sphinx->-r requirements.txt (line 11)) (2.19.1)\r\n",
      "Requirement already satisfied: docutils<0.22,>=0.20 in /usr/local/lib/python3.11/dist-packages (from sphinx->-r requirements.txt (line 11)) (0.21.2)\r\n",
      "Requirement already satisfied: snowballstemmer>=2.2 in /usr/local/lib/python3.11/dist-packages (from sphinx->-r requirements.txt (line 11)) (2.2.0)\r\n",
      "Requirement already satisfied: babel>=2.13 in /usr/local/lib/python3.11/dist-packages (from sphinx->-r requirements.txt (line 11)) (2.17.0)\r\n",
      "Requirement already satisfied: alabaster>=0.7.14 in /usr/local/lib/python3.11/dist-packages (from sphinx->-r requirements.txt (line 11)) (1.0.0)\r\n",
      "Requirement already satisfied: imagesize>=1.3 in /usr/local/lib/python3.11/dist-packages (from sphinx->-r requirements.txt (line 11)) (1.4.1)\r\n",
      "Requirement already satisfied: requests>=2.30.0 in /usr/local/lib/python3.11/dist-packages (from sphinx->-r requirements.txt (line 11)) (2.32.3)\r\n",
      "Requirement already satisfied: roman-numerals-py>=1.0.0 in /usr/local/lib/python3.11/dist-packages (from sphinx->-r requirements.txt (line 11)) (3.1.0)\r\n",
      "Requirement already satisfied: packaging>=23.0 in /usr/local/lib/python3.11/dist-packages (from sphinx->-r requirements.txt (line 11)) (25.0)\r\n",
      "Requirement already satisfied: MarkupSafe>=2.0 in /usr/local/lib/python3.11/dist-packages (from jinja2->torch->-r requirements.txt (line 2)) (3.0.2)\r\n",
      "Requirement already satisfied: mkl_fft in /usr/local/lib/python3.11/dist-packages (from numpy->biopython->-r requirements.txt (line 4)) (1.3.8)\r\n",
      "Requirement already satisfied: mkl_random in /usr/local/lib/python3.11/dist-packages (from numpy->biopython->-r requirements.txt (line 4)) (1.2.4)\r\n",
      "Requirement already satisfied: mkl_umath in /usr/local/lib/python3.11/dist-packages (from numpy->biopython->-r requirements.txt (line 4)) (0.1.1)\r\n",
      "Requirement already satisfied: mkl in /usr/local/lib/python3.11/dist-packages (from numpy->biopython->-r requirements.txt (line 4)) (2025.1.0)\r\n",
      "Requirement already satisfied: tbb4py in /usr/local/lib/python3.11/dist-packages (from numpy->biopython->-r requirements.txt (line 4)) (2022.1.0)\r\n",
      "Requirement already satisfied: mkl-service in /usr/local/lib/python3.11/dist-packages (from numpy->biopython->-r requirements.txt (line 4)) (2.4.1)\r\n",
      "Requirement already satisfied: six>=1.5 in /usr/local/lib/python3.11/dist-packages (from python-dateutil>=2.8.2->pandas->-r requirements.txt (line 5)) (1.17.0)\r\n",
      "Requirement already satisfied: charset-normalizer<4,>=2 in /usr/local/lib/python3.11/dist-packages (from requests>=2.30.0->sphinx->-r requirements.txt (line 11)) (3.4.2)\r\n",
      "Requirement already satisfied: idna<4,>=2.5 in /usr/local/lib/python3.11/dist-packages (from requests>=2.30.0->sphinx->-r requirements.txt (line 11)) (3.10)\r\n",
      "Requirement already satisfied: urllib3<3,>=1.21.1 in /usr/local/lib/python3.11/dist-packages (from requests>=2.30.0->sphinx->-r requirements.txt (line 11)) (2.4.0)\r\n",
      "Requirement already satisfied: certifi>=2017.4.17 in /usr/local/lib/python3.11/dist-packages (from requests>=2.30.0->sphinx->-r requirements.txt (line 11)) (2025.4.26)\r\n",
      "Requirement already satisfied: intel-openmp<2026,>=2024 in /usr/local/lib/python3.11/dist-packages (from mkl->numpy->biopython->-r requirements.txt (line 4)) (2024.2.0)\r\n",
      "Requirement already satisfied: tbb==2022.* in /usr/local/lib/python3.11/dist-packages (from mkl->numpy->biopython->-r requirements.txt (line 4)) (2022.1.0)\r\n",
      "Requirement already satisfied: tcmlib==1.* in /usr/local/lib/python3.11/dist-packages (from tbb==2022.*->mkl->numpy->biopython->-r requirements.txt (line 4)) (1.3.0)\r\n",
      "Requirement already satisfied: intel-cmplr-lib-rt in /usr/local/lib/python3.11/dist-packages (from mkl_umath->numpy->biopython->-r requirements.txt (line 4)) (2024.2.0)\r\n",
      "Requirement already satisfied: intel-cmplr-lib-ur==2024.2.0 in /usr/local/lib/python3.11/dist-packages (from intel-openmp<2026,>=2024->mkl->numpy->biopython->-r requirements.txt (line 4)) (2024.2.0)\r\n",
      "Downloading nvidia_cublas_cu12-12.4.5.8-py3-none-manylinux2014_x86_64.whl (363.4 MB)\r\n",
      "\u001b[2K   \u001b[90m━━━━━━━━━━━━━━━━━━━━━━━━━━━━━━━━━━━━━━━━\u001b[0m \u001b[32m363.4/363.4 MB\u001b[0m \u001b[31m4.7 MB/s\u001b[0m eta \u001b[36m0:00:00\u001b[0m\r\n",
      "\u001b[?25hDownloading nvidia_cudnn_cu12-9.1.0.70-py3-none-manylinux2014_x86_64.whl (664.8 MB)\r\n",
      "\u001b[2K   \u001b[90m━━━━━━━━━━━━━━━━━━━━━━━━━━━━━━━━━━━━━━━━\u001b[0m \u001b[32m664.8/664.8 MB\u001b[0m \u001b[31m944.8 kB/s\u001b[0m eta \u001b[36m0:00:00\u001b[0m\r\n",
      "\u001b[?25hDownloading nvidia_cufft_cu12-11.2.1.3-py3-none-manylinux2014_x86_64.whl (211.5 MB)\r\n",
      "\u001b[2K   \u001b[90m━━━━━━━━━━━━━━━━━━━━━━━━━━━━━━━━━━━━━━━━\u001b[0m \u001b[32m211.5/211.5 MB\u001b[0m \u001b[31m3.0 MB/s\u001b[0m eta \u001b[36m0:00:00\u001b[0m\r\n",
      "\u001b[?25hDownloading nvidia_curand_cu12-10.3.5.147-py3-none-manylinux2014_x86_64.whl (56.3 MB)\r\n",
      "\u001b[2K   \u001b[90m━━━━━━━━━━━━━━━━━━━━━━━━━━━━━━━━━━━━━━━━\u001b[0m \u001b[32m56.3/56.3 MB\u001b[0m \u001b[31m5.2 MB/s\u001b[0m eta \u001b[36m0:00:00\u001b[0m\r\n",
      "\u001b[?25hDownloading nvidia_cusolver_cu12-11.6.1.9-py3-none-manylinux2014_x86_64.whl (127.9 MB)\r\n",
      "\u001b[2K   \u001b[90m━━━━━━━━━━━━━━━━━━━━━━━━━━━━━━━━━━━━━━━━\u001b[0m \u001b[32m127.9/127.9 MB\u001b[0m \u001b[31m10.2 MB/s\u001b[0m eta \u001b[36m0:00:00\u001b[0m\r\n",
      "\u001b[?25hDownloading nvidia_cusparse_cu12-12.3.1.170-py3-none-manylinux2014_x86_64.whl (207.5 MB)\r\n",
      "\u001b[2K   \u001b[90m━━━━━━━━━━━━━━━━━━━━━━━━━━━━━━━━━━━━━━━━\u001b[0m \u001b[32m207.5/207.5 MB\u001b[0m \u001b[31m8.3 MB/s\u001b[0m eta \u001b[36m0:00:00\u001b[0m\r\n",
      "\u001b[?25hDownloading nvidia_nvjitlink_cu12-12.4.127-py3-none-manylinux2014_x86_64.whl (21.1 MB)\r\n",
      "\u001b[2K   \u001b[90m━━━━━━━━━━━━━━━━━━━━━━━━━━━━━━━━━━━━━━━━\u001b[0m \u001b[32m21.1/21.1 MB\u001b[0m \u001b[31m85.7 MB/s\u001b[0m eta \u001b[36m0:00:00\u001b[0m\r\n",
      "\u001b[?25hDownloading fair_esm-2.0.0-py3-none-any.whl (93 kB)\r\n",
      "\u001b[2K   \u001b[90m━━━━━━━━━━━━━━━━━━━━━━━━━━━━━━━━━━━━━━━━\u001b[0m \u001b[32m93.1/93.1 kB\u001b[0m \u001b[31m4.9 MB/s\u001b[0m eta \u001b[36m0:00:00\u001b[0m\r\n",
      "\u001b[?25hDownloading biopython-1.85-cp311-cp311-manylinux_2_17_x86_64.manylinux2014_x86_64.whl (3.3 MB)\r\n",
      "\u001b[2K   \u001b[90m━━━━━━━━━━━━━━━━━━━━━━━━━━━━━━━━━━━━━━━━\u001b[0m \u001b[32m3.3/3.3 MB\u001b[0m \u001b[31m83.0 MB/s\u001b[0m eta \u001b[36m0:00:00\u001b[0m\r\n",
      "\u001b[?25hInstalling collected packages: fair-esm, nvidia-nvjitlink-cu12, nvidia-curand-cu12, nvidia-cufft-cu12, nvidia-cublas-cu12, nvidia-cusparse-cu12, nvidia-cudnn-cu12, nvidia-cusolver-cu12, biopython\r\n",
      "  Attempting uninstall: nvidia-nvjitlink-cu12\r\n",
      "    Found existing installation: nvidia-nvjitlink-cu12 12.9.41\r\n",
      "    Uninstalling nvidia-nvjitlink-cu12-12.9.41:\r\n",
      "      Successfully uninstalled nvidia-nvjitlink-cu12-12.9.41\r\n",
      "  Attempting uninstall: nvidia-curand-cu12\r\n",
      "    Found existing installation: nvidia-curand-cu12 10.3.10.19\r\n",
      "    Uninstalling nvidia-curand-cu12-10.3.10.19:\r\n",
      "      Successfully uninstalled nvidia-curand-cu12-10.3.10.19\r\n",
      "  Attempting uninstall: nvidia-cufft-cu12\r\n",
      "    Found existing installation: nvidia-cufft-cu12 11.4.0.6\r\n",
      "    Uninstalling nvidia-cufft-cu12-11.4.0.6:\r\n",
      "      Successfully uninstalled nvidia-cufft-cu12-11.4.0.6\r\n",
      "  Attempting uninstall: nvidia-cublas-cu12\r\n",
      "    Found existing installation: nvidia-cublas-cu12 12.9.0.13\r\n",
      "    Uninstalling nvidia-cublas-cu12-12.9.0.13:\r\n",
      "      Successfully uninstalled nvidia-cublas-cu12-12.9.0.13\r\n",
      "  Attempting uninstall: nvidia-cusparse-cu12\r\n",
      "    Found existing installation: nvidia-cusparse-cu12 12.5.9.5\r\n",
      "    Uninstalling nvidia-cusparse-cu12-12.5.9.5:\r\n",
      "      Successfully uninstalled nvidia-cusparse-cu12-12.5.9.5\r\n",
      "  Attempting uninstall: nvidia-cudnn-cu12\r\n",
      "    Found existing installation: nvidia-cudnn-cu12 9.3.0.75\r\n",
      "    Uninstalling nvidia-cudnn-cu12-9.3.0.75:\r\n",
      "      Successfully uninstalled nvidia-cudnn-cu12-9.3.0.75\r\n",
      "  Attempting uninstall: nvidia-cusolver-cu12\r\n",
      "    Found existing installation: nvidia-cusolver-cu12 11.7.4.40\r\n",
      "    Uninstalling nvidia-cusolver-cu12-11.7.4.40:\r\n",
      "      Successfully uninstalled nvidia-cusolver-cu12-11.7.4.40\r\n",
      "Successfully installed biopython-1.85 fair-esm-2.0.0 nvidia-cublas-cu12-12.4.5.8 nvidia-cudnn-cu12-9.1.0.70 nvidia-cufft-cu12-11.2.1.3 nvidia-curand-cu12-10.3.5.147 nvidia-cusolver-cu12-11.6.1.9 nvidia-cusparse-cu12-12.3.1.170 nvidia-nvjitlink-cu12-12.4.127\r\n"
     ]
    }
   ],
   "source": [
    "!pip install -r requirements.txt"
   ]
  },
  {
   "cell_type": "code",
   "execution_count": 4,
   "id": "50f5a87f",
   "metadata": {
    "execution": {
     "iopub.execute_input": "2025-06-27T05:37:09.790569Z",
     "iopub.status.busy": "2025-06-27T05:37:09.790081Z",
     "iopub.status.idle": "2025-06-27T05:37:11.258695Z",
     "shell.execute_reply": "2025-06-27T05:37:11.258010Z"
    },
    "papermill": {
     "duration": 1.500805,
     "end_time": "2025-06-27T05:37:11.259921",
     "exception": false,
     "start_time": "2025-06-27T05:37:09.759116",
     "status": "completed"
    },
    "tags": []
   },
   "outputs": [
    {
     "data": {
      "text/html": [
       "<div>\n",
       "<style scoped>\n",
       "    .dataframe tbody tr th:only-of-type {\n",
       "        vertical-align: middle;\n",
       "    }\n",
       "\n",
       "    .dataframe tbody tr th {\n",
       "        vertical-align: top;\n",
       "    }\n",
       "\n",
       "    .dataframe thead th {\n",
       "        text-align: right;\n",
       "    }\n",
       "</style>\n",
       "<table border=\"1\" class=\"dataframe\">\n",
       "  <thead>\n",
       "    <tr style=\"text-align: right;\">\n",
       "      <th></th>\n",
       "      <th>DMS_id</th>\n",
       "      <th>model_name</th>\n",
       "      <th>fold_variable_name</th>\n",
       "      <th>Spearman</th>\n",
       "      <th>MSE</th>\n",
       "    </tr>\n",
       "  </thead>\n",
       "  <tbody>\n",
       "    <tr>\n",
       "      <th>0</th>\n",
       "      <td>A0A140D2T1_ZIKV_Sourisseau_2019</td>\n",
       "      <td>Embeddings - Augmented - ESM1v</td>\n",
       "      <td>fold_contiguous_5</td>\n",
       "      <td>0.012776</td>\n",
       "      <td>1.311910</td>\n",
       "    </tr>\n",
       "    <tr>\n",
       "      <th>1</th>\n",
       "      <td>A0A140D2T1_ZIKV_Sourisseau_2019</td>\n",
       "      <td>Embeddings - Augmented - ESM1v</td>\n",
       "      <td>fold_modulo_5</td>\n",
       "      <td>0.163152</td>\n",
       "      <td>1.001697</td>\n",
       "    </tr>\n",
       "    <tr>\n",
       "      <th>2</th>\n",
       "      <td>A0A140D2T1_ZIKV_Sourisseau_2019</td>\n",
       "      <td>Embeddings - Augmented - ESM1v</td>\n",
       "      <td>fold_random_5</td>\n",
       "      <td>0.232439</td>\n",
       "      <td>0.933645</td>\n",
       "    </tr>\n",
       "    <tr>\n",
       "      <th>3</th>\n",
       "      <td>A0A140D2T1_ZIKV_Sourisseau_2019</td>\n",
       "      <td>Embeddings - Augmented - MSA Transformer</td>\n",
       "      <td>fold_contiguous_5</td>\n",
       "      <td>0.429282</td>\n",
       "      <td>1.061674</td>\n",
       "    </tr>\n",
       "    <tr>\n",
       "      <th>4</th>\n",
       "      <td>A0A140D2T1_ZIKV_Sourisseau_2019</td>\n",
       "      <td>Embeddings - Augmented - MSA Transformer</td>\n",
       "      <td>fold_modulo_5</td>\n",
       "      <td>0.439994</td>\n",
       "      <td>0.937845</td>\n",
       "    </tr>\n",
       "    <tr>\n",
       "      <th>...</th>\n",
       "      <td>...</td>\n",
       "      <td>...</td>\n",
       "      <td>...</td>\n",
       "      <td>...</td>\n",
       "      <td>...</td>\n",
       "    </tr>\n",
       "    <tr>\n",
       "      <th>7156</th>\n",
       "      <td>YNZC_BACSU_Tsuboyama_2023_2JVD</td>\n",
       "      <td>OHE - Not augmented</td>\n",
       "      <td>fold_modulo_5</td>\n",
       "      <td>-0.070185</td>\n",
       "      <td>1.075730</td>\n",
       "    </tr>\n",
       "    <tr>\n",
       "      <th>7157</th>\n",
       "      <td>YNZC_BACSU_Tsuboyama_2023_2JVD</td>\n",
       "      <td>OHE - Not augmented</td>\n",
       "      <td>fold_random_5</td>\n",
       "      <td>0.690751</td>\n",
       "      <td>0.594683</td>\n",
       "    </tr>\n",
       "    <tr>\n",
       "      <th>7158</th>\n",
       "      <td>YNZC_BACSU_Tsuboyama_2023_2JVD</td>\n",
       "      <td>ProteinNPT</td>\n",
       "      <td>fold_contiguous_5</td>\n",
       "      <td>0.684150</td>\n",
       "      <td>0.472891</td>\n",
       "    </tr>\n",
       "    <tr>\n",
       "      <th>7159</th>\n",
       "      <td>YNZC_BACSU_Tsuboyama_2023_2JVD</td>\n",
       "      <td>ProteinNPT</td>\n",
       "      <td>fold_modulo_5</td>\n",
       "      <td>0.681212</td>\n",
       "      <td>0.474511</td>\n",
       "    </tr>\n",
       "    <tr>\n",
       "      <th>7160</th>\n",
       "      <td>YNZC_BACSU_Tsuboyama_2023_2JVD</td>\n",
       "      <td>ProteinNPT</td>\n",
       "      <td>fold_random_5</td>\n",
       "      <td>0.911244</td>\n",
       "      <td>0.115036</td>\n",
       "    </tr>\n",
       "  </tbody>\n",
       "</table>\n",
       "<p>7161 rows × 5 columns</p>\n",
       "</div>"
      ],
      "text/plain": [
       "                               DMS_id  \\\n",
       "0     A0A140D2T1_ZIKV_Sourisseau_2019   \n",
       "1     A0A140D2T1_ZIKV_Sourisseau_2019   \n",
       "2     A0A140D2T1_ZIKV_Sourisseau_2019   \n",
       "3     A0A140D2T1_ZIKV_Sourisseau_2019   \n",
       "4     A0A140D2T1_ZIKV_Sourisseau_2019   \n",
       "...                               ...   \n",
       "7156   YNZC_BACSU_Tsuboyama_2023_2JVD   \n",
       "7157   YNZC_BACSU_Tsuboyama_2023_2JVD   \n",
       "7158   YNZC_BACSU_Tsuboyama_2023_2JVD   \n",
       "7159   YNZC_BACSU_Tsuboyama_2023_2JVD   \n",
       "7160   YNZC_BACSU_Tsuboyama_2023_2JVD   \n",
       "\n",
       "                                    model_name fold_variable_name  Spearman  \\\n",
       "0               Embeddings - Augmented - ESM1v  fold_contiguous_5  0.012776   \n",
       "1               Embeddings - Augmented - ESM1v      fold_modulo_5  0.163152   \n",
       "2               Embeddings - Augmented - ESM1v      fold_random_5  0.232439   \n",
       "3     Embeddings - Augmented - MSA Transformer  fold_contiguous_5  0.429282   \n",
       "4     Embeddings - Augmented - MSA Transformer      fold_modulo_5  0.439994   \n",
       "...                                        ...                ...       ...   \n",
       "7156                       OHE - Not augmented      fold_modulo_5 -0.070185   \n",
       "7157                       OHE - Not augmented      fold_random_5  0.690751   \n",
       "7158                                ProteinNPT  fold_contiguous_5  0.684150   \n",
       "7159                                ProteinNPT      fold_modulo_5  0.681212   \n",
       "7160                                ProteinNPT      fold_random_5  0.911244   \n",
       "\n",
       "           MSE  \n",
       "0     1.311910  \n",
       "1     1.001697  \n",
       "2     0.933645  \n",
       "3     1.061674  \n",
       "4     0.937845  \n",
       "...        ...  \n",
       "7156  1.075730  \n",
       "7157  0.594683  \n",
       "7158  0.472891  \n",
       "7159  0.474511  \n",
       "7160  0.115036  \n",
       "\n",
       "[7161 rows x 5 columns]"
      ]
     },
     "execution_count": 4,
     "metadata": {},
     "output_type": "execute_result"
    }
   ],
   "source": [
    "import pandas as pd\n",
    "vae_df=pd.read_csv('/kaggle/input/test-result/batch_results_with_rho.csv')\n",
    "prev_df=pd.read_csv('/kaggle/input/dms-scores/merged_scores_substitutions_DMS.csv')\n",
    "prev_df"
   ]
  },
  {
   "cell_type": "code",
   "execution_count": 5,
   "id": "28838048",
   "metadata": {
    "execution": {
     "iopub.execute_input": "2025-06-27T05:37:11.323379Z",
     "iopub.status.busy": "2025-06-27T05:37:11.322855Z",
     "iopub.status.idle": "2025-06-27T05:37:11.349561Z",
     "shell.execute_reply": "2025-06-27T05:37:11.348481Z"
    },
    "papermill": {
     "duration": 0.06017,
     "end_time": "2025-06-27T05:37:11.351432",
     "exception": false,
     "start_time": "2025-06-27T05:37:11.291262",
     "status": "completed"
    },
    "tags": []
   },
   "outputs": [
    {
     "name": "stdout",
     "output_type": "stream",
     "text": [
      "55\n"
     ]
    }
   ],
   "source": [
    "import pandas as pd\n",
    "import matplotlib.pyplot as plt\n",
    "\n",
    "# 1. Load the data (adjust paths if needed)\n",
    "vae_df=pd.read_csv('/kaggle/input/test-result/batch_results_with_rho.csv')\n",
    "prev_df=pd.read_csv('/kaggle/input/dms-scores/merged_scores_substitutions_DMS.csv')\n",
    "\n",
    "# 2. Normalize IDs\n",
    "vae_df['DMS_id'] = vae_df['dataset'].str[:-4]\n",
    "vae_df['y']      = vae_df['rho']\n",
    "\n",
    "# 3. Filter prev_df to only those IDs\n",
    "common_ids = set(vae_df['DMS_id'])\n",
    "prev_df     = prev_df[~prev_df['DMS_id'].isin(common_ids)]\n",
    "\n",
    "to_do=prev_df['DMS_id'].to_list()\n",
    "to_do=list(set(to_do))\n",
    "print(len(to_do))"
   ]
  },
  {
   "cell_type": "code",
   "execution_count": 6,
   "id": "0220fa45",
   "metadata": {
    "execution": {
     "iopub.execute_input": "2025-06-27T05:37:11.479787Z",
     "iopub.status.busy": "2025-06-27T05:37:11.479503Z",
     "iopub.status.idle": "2025-06-27T05:37:11.485845Z",
     "shell.execute_reply": "2025-06-27T05:37:11.484927Z"
    },
    "papermill": {
     "duration": 0.094385,
     "end_time": "2025-06-27T05:37:11.486991",
     "exception": false,
     "start_time": "2025-06-27T05:37:11.392606",
     "status": "completed"
    },
    "tags": []
   },
   "outputs": [
    {
     "data": {
      "text/plain": [
       "['/kaggle/input/dms-subs/DMS_ProteinGym_substitutions/PA_I34A1_Wu_2015.csv',\n",
       " '/kaggle/input/dms-subs/DMS_ProteinGym_substitutions/S22A1_HUMAN_Yee_2023_activity.csv',\n",
       " '/kaggle/input/dms-subs/DMS_ProteinGym_substitutions/SRC_HUMAN_Ahler_2019.csv',\n",
       " '/kaggle/input/dms-subs/DMS_ProteinGym_substitutions/BRCA2_HUMAN_Erwood_2022_HEK293T.csv',\n",
       " '/kaggle/input/dms-subs/DMS_ProteinGym_substitutions/POLG_HCVJF_Qi_2014.csv',\n",
       " '/kaggle/input/dms-subs/DMS_ProteinGym_substitutions/BRCA1_HUMAN_Findlay_2018.csv',\n",
       " '/kaggle/input/dms-subs/DMS_ProteinGym_substitutions/SC6A4_HUMAN_Young_2021.csv',\n",
       " '/kaggle/input/dms-subs/DMS_ProteinGym_substitutions/A4D664_9INFA_Soh_2019.csv',\n",
       " '/kaggle/input/dms-subs/DMS_ProteinGym_substitutions/SPIKE_SARS2_Starr_2020_expression.csv',\n",
       " '/kaggle/input/dms-subs/DMS_ProteinGym_substitutions/CAR11_HUMAN_Meitlis_2020_lof.csv',\n",
       " '/kaggle/input/dms-subs/DMS_ProteinGym_substitutions/Q837P4_ENTFA_Meier_2023.csv',\n",
       " '/kaggle/input/dms-subs/DMS_ProteinGym_substitutions/S22A1_HUMAN_Yee_2023_abundance.csv',\n",
       " '/kaggle/input/dms-subs/DMS_ProteinGym_substitutions/DLG4_RAT_McLaughlin_2012.csv',\n",
       " '/kaggle/input/dms-subs/DMS_ProteinGym_substitutions/POLG_DEN26_Suphatrakul_2023.csv',\n",
       " '/kaggle/input/dms-subs/DMS_ProteinGym_substitutions/Q2N0S5_9HIV1_Haddox_2018.csv',\n",
       " '/kaggle/input/dms-subs/DMS_ProteinGym_substitutions/SRC_HUMAN_Nguyen_2022.csv',\n",
       " '/kaggle/input/dms-subs/DMS_ProteinGym_substitutions/UBE4B_MOUSE_Starita_2013.csv',\n",
       " '/kaggle/input/dms-subs/DMS_ProteinGym_substitutions/POLG_CXB3N_Mattenberger_2021.csv',\n",
       " '/kaggle/input/dms-subs/DMS_ProteinGym_substitutions/CD19_HUMAN_Klesmith_2019_FMC_singles.csv',\n",
       " '/kaggle/input/dms-subs/DMS_ProteinGym_substitutions/SPIKE_SARS2_Starr_2020_binding.csv',\n",
       " '/kaggle/input/dms-subs/DMS_ProteinGym_substitutions/CBS_HUMAN_Sun_2020.csv',\n",
       " '/kaggle/input/dms-subs/DMS_ProteinGym_substitutions/KCNH2_HUMAN_Kozek_2020.csv',\n",
       " '/kaggle/input/dms-subs/DMS_ProteinGym_substitutions/CAR11_HUMAN_Meitlis_2020_gof.csv',\n",
       " '/kaggle/input/dms-subs/DMS_ProteinGym_substitutions/Q837P5_ENTFA_Meier_2023.csv',\n",
       " '/kaggle/input/dms-subs/DMS_ProteinGym_substitutions/A0A140D2T1_ZIKV_Sourisseau_2019.csv',\n",
       " '/kaggle/input/dms-subs/DMS_ProteinGym_substitutions/HSP82_YEAST_Mishra_2016.csv',\n",
       " '/kaggle/input/dms-subs/DMS_ProteinGym_substitutions/SRC_HUMAN_Chakraborty_2023_binding-DAS_25uM.csv',\n",
       " '/kaggle/input/dms-subs/DMS_ProteinGym_substitutions/HSP82_YEAST_Cote-Hammarlof_2020_growth-H2O2.csv',\n",
       " '/kaggle/input/dms-subs/DMS_ProteinGym_substitutions/ANCSZ_Hobbs_2022.csv',\n",
       " '/kaggle/input/dms-subs/DMS_ProteinGym_substitutions/GAL4_YEAST_Kitzman_2015.csv',\n",
       " '/kaggle/input/dms-subs/DMS_ProteinGym_substitutions/C6KNH7_9INFA_Lee_2018.csv',\n",
       " '/kaggle/input/dms-subs/DMS_ProteinGym_substitutions/MSH2_HUMAN_Jia_2020.csv',\n",
       " '/kaggle/input/dms-subs/DMS_ProteinGym_substitutions/MTHR_HUMAN_Weile_2021.csv',\n",
       " '/kaggle/input/dms-subs/DMS_ProteinGym_substitutions/RDRP_I33A0_Li_2023.csv',\n",
       " '/kaggle/input/dms-subs/DMS_ProteinGym_substitutions/SCN5A_HUMAN_Glazer_2019.csv',\n",
       " '/kaggle/input/dms-subs/DMS_ProteinGym_substitutions/ERBB2_HUMAN_Elazar_2016.csv',\n",
       " '/kaggle/input/dms-subs/DMS_ProteinGym_substitutions/HSP82_YEAST_Flynn_2019.csv',\n",
       " '/kaggle/input/dms-subs/DMS_ProteinGym_substitutions/PPM1D_HUMAN_Miller_2022.csv',\n",
       " '/kaggle/input/dms-subs/DMS_ProteinGym_substitutions/CAPSD_AAV2S_Sinai_2021.csv',\n",
       " '/kaggle/input/dms-subs/DMS_ProteinGym_substitutions/ENV_HV1BR_Haddox_2016.csv',\n",
       " '/kaggle/input/dms-subs/DMS_ProteinGym_substitutions/ENV_HV1B9_DuenasDecamp_2016.csv',\n",
       " '/kaggle/input/dms-subs/DMS_ProteinGym_substitutions/SHOC2_HUMAN_Kwon_2022.csv',\n",
       " '/kaggle/input/dms-subs/DMS_ProteinGym_substitutions/A0A2Z5U3Z0_9INFA_Doud_2016.csv',\n",
       " '/kaggle/input/dms-subs/DMS_ProteinGym_substitutions/NPC1_HUMAN_Erwood_2022_RPE1.csv',\n",
       " '/kaggle/input/dms-subs/DMS_ProteinGym_substitutions/ACE2_HUMAN_Chan_2020.csv',\n",
       " '/kaggle/input/dms-subs/DMS_ProteinGym_substitutions/CAS9_STRP1_Spencer_2017_positive.csv',\n",
       " '/kaggle/input/dms-subs/DMS_ProteinGym_substitutions/HMDH_HUMAN_Jiang_2019.csv',\n",
       " '/kaggle/input/dms-subs/DMS_ProteinGym_substitutions/A4_HUMAN_Seuma_2022.csv',\n",
       " '/kaggle/input/dms-subs/DMS_ProteinGym_substitutions/NPC1_HUMAN_Erwood_2022_HEK293T.csv',\n",
       " '/kaggle/input/dms-subs/DMS_ProteinGym_substitutions/DLG4_HUMAN_Faure_2021.csv',\n",
       " '/kaggle/input/dms-subs/DMS_ProteinGym_substitutions/TPOR_HUMAN_Bridgford_2020.csv',\n",
       " '/kaggle/input/dms-subs/DMS_ProteinGym_substitutions/A0A192B1T2_9HIV1_Haddox_2018.csv',\n",
       " '/kaggle/input/dms-subs/DMS_ProteinGym_substitutions/PABP_YEAST_Melamed_2013.csv',\n",
       " '/kaggle/input/dms-subs/DMS_ProteinGym_substitutions/A0A2Z5U3Z0_9INFA_Wu_2014.csv',\n",
       " '/kaggle/input/dms-subs/DMS_ProteinGym_substitutions/RAF1_HUMAN_Zinkus-Boltz_2019.csv']"
      ]
     },
     "execution_count": 6,
     "metadata": {},
     "output_type": "execute_result"
    }
   ],
   "source": [
    "csv_path=list(map(lambda x:'/kaggle/input/dms-subs/DMS_ProteinGym_substitutions/'+x+'.csv',to_do))\n",
    "csv_path"
   ]
  },
  {
   "cell_type": "code",
   "execution_count": 7,
   "id": "87ff6a07",
   "metadata": {
    "execution": {
     "iopub.execute_input": "2025-06-27T05:37:11.566175Z",
     "iopub.status.busy": "2025-06-27T05:37:11.565884Z",
     "iopub.status.idle": "2025-06-27T05:37:11.575511Z",
     "shell.execute_reply": "2025-06-27T05:37:11.574951Z"
    },
    "papermill": {
     "duration": 0.046794,
     "end_time": "2025-06-27T05:37:11.576685",
     "exception": false,
     "start_time": "2025-06-27T05:37:11.529891",
     "status": "completed"
    },
    "tags": []
   },
   "outputs": [],
   "source": [
    "vae_df=pd.read_csv('/kaggle/input/test-result/batch_results_with_rho.csv')\n",
    "vae_df['DMS_id']=vae_df['dataset'].str[:-4]\n",
    "vae_df['Spearman']=vae_df['rho']\n",
    "vae_df=vae_df[['DMS_id','Spearman','MSE']]"
   ]
  },
  {
   "cell_type": "code",
   "execution_count": 8,
   "id": "88c6bd14",
   "metadata": {
    "execution": {
     "iopub.execute_input": "2025-06-27T05:37:11.641258Z",
     "iopub.status.busy": "2025-06-27T05:37:11.640977Z",
     "iopub.status.idle": "2025-06-27T10:16:24.208113Z",
     "shell.execute_reply": "2025-06-27T10:16:24.207241Z"
    },
    "papermill": {
     "duration": 16752.601093,
     "end_time": "2025-06-27T10:16:24.209448",
     "exception": false,
     "start_time": "2025-06-27T05:37:11.608355",
     "status": "completed"
    },
    "tags": []
   },
   "outputs": [
    {
     "name": "stderr",
     "output_type": "stream",
     "text": [
      "2025-06-27 05:37:16 vae_module.loader [INFO] Loaded VAE from models/vae_epoch380.pt on cuda\n"
     ]
    },
    {
     "name": "stdout",
     "output_type": "stream",
     "text": [
      "loaded vae\n"
     ]
    },
    {
     "name": "stderr",
     "output_type": "stream",
     "text": [
      "/usr/local/lib/python3.11/dist-packages/torch/nn/modules/transformer.py:508: UserWarning: The PyTorch API of nested tensors is in prototype stage and will change in the near future. We recommend specifying layout=torch.jagged when constructing a nested tensor, as this layout receives active development, has better operator coverage, and works with torch.compile. (Triggered internally at /pytorch/aten/src/ATen/NestedTensorImpl.cpp:178.)\n",
      "  output = torch._nested_tensor_from_mask(\n",
      "/usr/local/lib/python3.11/dist-packages/torch/nn/functional.py:5962: UserWarning: Support for mismatched key_padding_mask and attn_mask is deprecated. Use same type for both instead.\n",
      "  warnings.warn(\n",
      "/usr/local/lib/python3.11/dist-packages/torch/nn/functional.py:5962: UserWarning: Support for mismatched key_padding_mask and attn_mask is deprecated. Use same type for both instead.\n",
      "  warnings.warn(\n"
     ]
    },
    {
     "name": "stdout",
     "output_type": "stream",
     "text": [
      "Sequence encoding complete\n",
      "Sequence encoding complete\n",
      "\n",
      "Best model at epoch 0 with Val Loss: inf\n",
      "  MSE:               0.2011\n",
      "  R²:                -0.3304\n",
      "  Spearman Corr:     0.2810\n"
     ]
    },
    {
     "name": "stderr",
     "output_type": "stream",
     "text": [
      "/usr/local/lib/python3.11/dist-packages/torch/nn/functional.py:5962: UserWarning: Support for mismatched key_padding_mask and attn_mask is deprecated. Use same type for both instead.\n",
      "  warnings.warn(\n"
     ]
    },
    {
     "name": "stdout",
     "output_type": "stream",
     "text": [
      "Sequence encoding complete\n",
      "Sequence encoding complete\n",
      "\n",
      "Best model at epoch 0 with Val Loss: inf\n",
      "  MSE:               0.5977\n",
      "  R²:                0.2489\n",
      "  Spearman Corr:     0.4662\n"
     ]
    },
    {
     "name": "stderr",
     "output_type": "stream",
     "text": [
      "/usr/local/lib/python3.11/dist-packages/torch/nn/functional.py:5962: UserWarning: Support for mismatched key_padding_mask and attn_mask is deprecated. Use same type for both instead.\n",
      "  warnings.warn(\n"
     ]
    },
    {
     "name": "stdout",
     "output_type": "stream",
     "text": [
      "Sequence encoding complete\n",
      "Sequence encoding complete\n",
      "\n",
      "Best model at epoch 0 with Val Loss: inf\n",
      "  MSE:               0.8939\n",
      "  R²:                0.0558\n",
      "  Spearman Corr:     0.3682\n"
     ]
    },
    {
     "name": "stderr",
     "output_type": "stream",
     "text": [
      "/usr/local/lib/python3.11/dist-packages/torch/nn/functional.py:5962: UserWarning: Support for mismatched key_padding_mask and attn_mask is deprecated. Use same type for both instead.\n",
      "  warnings.warn(\n"
     ]
    },
    {
     "name": "stdout",
     "output_type": "stream",
     "text": [
      "Sequence encoding complete\n",
      "Sequence encoding complete\n",
      "\n",
      "Best model at epoch 0 with Val Loss: inf\n",
      "  MSE:               0.0150\n",
      "  R²:                0.6470\n",
      "  Spearman Corr:     0.2461\n"
     ]
    },
    {
     "name": "stderr",
     "output_type": "stream",
     "text": [
      "/usr/local/lib/python3.11/dist-packages/torch/nn/functional.py:5962: UserWarning: Support for mismatched key_padding_mask and attn_mask is deprecated. Use same type for both instead.\n",
      "  warnings.warn(\n"
     ]
    },
    {
     "name": "stdout",
     "output_type": "stream",
     "text": [
      "Sequence encoding complete\n",
      "Sequence encoding complete\n",
      "\n",
      "Best model at epoch 0 with Val Loss: inf\n",
      "  MSE:               0.1186\n",
      "  R²:                0.0392\n",
      "  Spearman Corr:     0.5285\n"
     ]
    },
    {
     "name": "stderr",
     "output_type": "stream",
     "text": [
      "/usr/local/lib/python3.11/dist-packages/torch/nn/functional.py:5962: UserWarning: Support for mismatched key_padding_mask and attn_mask is deprecated. Use same type for both instead.\n",
      "  warnings.warn(\n"
     ]
    },
    {
     "name": "stdout",
     "output_type": "stream",
     "text": [
      "Sequence encoding complete\n",
      "Sequence encoding complete\n",
      "\n",
      "Best model at epoch 0 with Val Loss: inf\n",
      "  MSE:               0.6762\n",
      "  R²:                0.0460\n",
      "  Spearman Corr:     0.3640\n"
     ]
    },
    {
     "name": "stderr",
     "output_type": "stream",
     "text": [
      "/usr/local/lib/python3.11/dist-packages/torch/nn/functional.py:5962: UserWarning: Support for mismatched key_padding_mask and attn_mask is deprecated. Use same type for both instead.\n",
      "  warnings.warn(\n"
     ]
    },
    {
     "name": "stdout",
     "output_type": "stream",
     "text": [
      "Sequence encoding complete\n",
      "Sequence encoding complete\n",
      "\n",
      "Best model at epoch 0 with Val Loss: inf\n",
      "  MSE:               1.3669\n",
      "  R²:                0.2001\n",
      "  Spearman Corr:     0.4704\n"
     ]
    },
    {
     "name": "stderr",
     "output_type": "stream",
     "text": [
      "/usr/local/lib/python3.11/dist-packages/torch/nn/functional.py:5962: UserWarning: Support for mismatched key_padding_mask and attn_mask is deprecated. Use same type for both instead.\n",
      "  warnings.warn(\n"
     ]
    },
    {
     "name": "stdout",
     "output_type": "stream",
     "text": [
      "Sequence encoding complete\n",
      "Sequence encoding complete\n",
      "\n",
      "Best model at epoch 0 with Val Loss: inf\n",
      "  MSE:               0.1554\n",
      "  R²:                0.1388\n",
      "  Spearman Corr:     0.4376\n"
     ]
    },
    {
     "name": "stderr",
     "output_type": "stream",
     "text": [
      "/usr/local/lib/python3.11/dist-packages/torch/nn/functional.py:5962: UserWarning: Support for mismatched key_padding_mask and attn_mask is deprecated. Use same type for both instead.\n",
      "  warnings.warn(\n"
     ]
    },
    {
     "name": "stdout",
     "output_type": "stream",
     "text": [
      "Sequence encoding complete\n",
      "Sequence encoding complete\n",
      "\n",
      "Best model at epoch 0 with Val Loss: inf\n",
      "  MSE:               0.9070\n",
      "  R²:                0.1338\n",
      "  Spearman Corr:     0.4361\n"
     ]
    },
    {
     "name": "stderr",
     "output_type": "stream",
     "text": [
      "/usr/local/lib/python3.11/dist-packages/torch/nn/functional.py:5962: UserWarning: Support for mismatched key_padding_mask and attn_mask is deprecated. Use same type for both instead.\n",
      "  warnings.warn(\n"
     ]
    },
    {
     "name": "stdout",
     "output_type": "stream",
     "text": [
      "Sequence encoding complete\n",
      "Sequence encoding complete\n",
      "\n",
      "Best model at epoch 0 with Val Loss: inf\n",
      "  MSE:               0.4191\n",
      "  R²:                0.1766\n",
      "  Spearman Corr:     0.5434\n"
     ]
    },
    {
     "name": "stderr",
     "output_type": "stream",
     "text": [
      "/usr/local/lib/python3.11/dist-packages/torch/nn/functional.py:5962: UserWarning: Support for mismatched key_padding_mask and attn_mask is deprecated. Use same type for both instead.\n",
      "  warnings.warn(\n"
     ]
    },
    {
     "name": "stdout",
     "output_type": "stream",
     "text": [
      "Sequence encoding complete\n",
      "Sequence encoding complete\n",
      "\n",
      "Best model at epoch 0 with Val Loss: inf\n",
      "  MSE:               0.9937\n",
      "  R²:                0.3526\n",
      "  Spearman Corr:     0.6809\n"
     ]
    },
    {
     "name": "stderr",
     "output_type": "stream",
     "text": [
      "/usr/local/lib/python3.11/dist-packages/torch/nn/functional.py:5962: UserWarning: Support for mismatched key_padding_mask and attn_mask is deprecated. Use same type for both instead.\n",
      "  warnings.warn(\n"
     ]
    },
    {
     "name": "stdout",
     "output_type": "stream",
     "text": [
      "Sequence encoding complete\n",
      "Sequence encoding complete\n",
      "\n",
      "Best model at epoch 0 with Val Loss: inf\n",
      "  MSE:               1.4120\n",
      "  R²:                0.2358\n",
      "  Spearman Corr:     0.4744\n"
     ]
    },
    {
     "name": "stderr",
     "output_type": "stream",
     "text": [
      "/usr/local/lib/python3.11/dist-packages/torch/nn/functional.py:5962: UserWarning: Support for mismatched key_padding_mask and attn_mask is deprecated. Use same type for both instead.\n",
      "  warnings.warn(\n"
     ]
    },
    {
     "name": "stdout",
     "output_type": "stream",
     "text": [
      "Sequence encoding complete\n",
      "Sequence encoding complete\n",
      "\n",
      "Best model at epoch 0 with Val Loss: inf\n",
      "  MSE:               0.1104\n",
      "  R²:                0.0953\n",
      "  Spearman Corr:     0.2848\n"
     ]
    },
    {
     "name": "stderr",
     "output_type": "stream",
     "text": [
      "/usr/local/lib/python3.11/dist-packages/torch/nn/functional.py:5962: UserWarning: Support for mismatched key_padding_mask and attn_mask is deprecated. Use same type for both instead.\n",
      "  warnings.warn(\n"
     ]
    },
    {
     "name": "stdout",
     "output_type": "stream",
     "text": [
      "Sequence encoding complete\n",
      "Sequence encoding complete\n",
      "\n",
      "Best model at epoch 0 with Val Loss: inf\n",
      "  MSE:               4.9659\n",
      "  R²:                0.2667\n",
      "  Spearman Corr:     0.5177\n"
     ]
    },
    {
     "name": "stderr",
     "output_type": "stream",
     "text": [
      "/usr/local/lib/python3.11/dist-packages/torch/nn/functional.py:5962: UserWarning: Support for mismatched key_padding_mask and attn_mask is deprecated. Use same type for both instead.\n",
      "  warnings.warn(\n"
     ]
    },
    {
     "name": "stdout",
     "output_type": "stream",
     "text": [
      "Sequence encoding complete\n",
      "Sequence encoding complete\n",
      "\n",
      "Best model at epoch 0 with Val Loss: inf\n",
      "  MSE:               3.3043\n",
      "  R²:                0.3149\n",
      "  Spearman Corr:     0.5458\n"
     ]
    },
    {
     "name": "stderr",
     "output_type": "stream",
     "text": [
      "/usr/local/lib/python3.11/dist-packages/torch/nn/functional.py:5962: UserWarning: Support for mismatched key_padding_mask and attn_mask is deprecated. Use same type for both instead.\n",
      "  warnings.warn(\n"
     ]
    },
    {
     "name": "stdout",
     "output_type": "stream",
     "text": [
      "Sequence encoding complete\n",
      "Sequence encoding complete\n",
      "\n",
      "Best model at epoch 0 with Val Loss: inf\n",
      "  MSE:               0.3818\n",
      "  R²:                -0.1452\n",
      "  Spearman Corr:     0.2635\n"
     ]
    },
    {
     "name": "stderr",
     "output_type": "stream",
     "text": [
      "/usr/local/lib/python3.11/dist-packages/torch/nn/functional.py:5962: UserWarning: Support for mismatched key_padding_mask and attn_mask is deprecated. Use same type for both instead.\n",
      "  warnings.warn(\n"
     ]
    },
    {
     "name": "stdout",
     "output_type": "stream",
     "text": [
      "Sequence encoding complete\n",
      "Sequence encoding complete\n",
      "\n",
      "Best model at epoch 0 with Val Loss: inf\n",
      "  MSE:               1.4445\n",
      "  R²:                -0.3961\n",
      "  Spearman Corr:     0.2145\n"
     ]
    },
    {
     "name": "stderr",
     "output_type": "stream",
     "text": [
      "/usr/local/lib/python3.11/dist-packages/torch/nn/functional.py:5962: UserWarning: Support for mismatched key_padding_mask and attn_mask is deprecated. Use same type for both instead.\n",
      "  warnings.warn(\n"
     ]
    },
    {
     "name": "stdout",
     "output_type": "stream",
     "text": [
      "Sequence encoding complete\n",
      "Sequence encoding complete\n",
      "\n",
      "Best model at epoch 0 with Val Loss: inf\n",
      "  MSE:               0.9507\n",
      "  R²:                0.1482\n",
      "  Spearman Corr:     0.3968\n"
     ]
    },
    {
     "name": "stderr",
     "output_type": "stream",
     "text": [
      "/usr/local/lib/python3.11/dist-packages/torch/nn/functional.py:5962: UserWarning: Support for mismatched key_padding_mask and attn_mask is deprecated. Use same type for both instead.\n",
      "  warnings.warn(\n"
     ]
    },
    {
     "name": "stdout",
     "output_type": "stream",
     "text": [
      "Sequence encoding complete\n",
      "Sequence encoding complete\n",
      "\n",
      "Best model at epoch 0 with Val Loss: inf\n",
      "  MSE:               7.8123\n",
      "  R²:                0.1958\n",
      "  Spearman Corr:     0.4581\n"
     ]
    },
    {
     "name": "stderr",
     "output_type": "stream",
     "text": [
      "/usr/local/lib/python3.11/dist-packages/torch/nn/functional.py:5962: UserWarning: Support for mismatched key_padding_mask and attn_mask is deprecated. Use same type for both instead.\n",
      "  warnings.warn(\n"
     ]
    },
    {
     "name": "stdout",
     "output_type": "stream",
     "text": [
      "Sequence encoding complete\n",
      "Sequence encoding complete\n",
      "\n",
      "Best model at epoch 0 with Val Loss: inf\n",
      "  MSE:               1.5421\n",
      "  R²:                0.2485\n",
      "  Spearman Corr:     0.4834\n"
     ]
    },
    {
     "name": "stderr",
     "output_type": "stream",
     "text": [
      "/usr/local/lib/python3.11/dist-packages/torch/nn/functional.py:5962: UserWarning: Support for mismatched key_padding_mask and attn_mask is deprecated. Use same type for both instead.\n",
      "  warnings.warn(\n"
     ]
    },
    {
     "name": "stdout",
     "output_type": "stream",
     "text": [
      "Sequence encoding complete\n",
      "Sequence encoding complete\n",
      "\n",
      "Best model at epoch 0 with Val Loss: inf\n",
      "  MSE:               0.2401\n",
      "  R²:                -0.0433\n",
      "  Spearman Corr:     0.2300\n"
     ]
    },
    {
     "name": "stderr",
     "output_type": "stream",
     "text": [
      "/usr/local/lib/python3.11/dist-packages/torch/nn/functional.py:5962: UserWarning: Support for mismatched key_padding_mask and attn_mask is deprecated. Use same type for both instead.\n",
      "  warnings.warn(\n"
     ]
    },
    {
     "name": "stdout",
     "output_type": "stream",
     "text": [
      "Sequence encoding complete\n",
      "Sequence encoding complete\n",
      "\n",
      "Best model at epoch 0 with Val Loss: inf\n",
      "  MSE:               1313.6726\n",
      "  R²:                -0.1215\n",
      "  Spearman Corr:     0.2634\n"
     ]
    },
    {
     "name": "stderr",
     "output_type": "stream",
     "text": [
      "/usr/local/lib/python3.11/dist-packages/torch/nn/functional.py:5962: UserWarning: Support for mismatched key_padding_mask and attn_mask is deprecated. Use same type for both instead.\n",
      "  warnings.warn(\n"
     ]
    },
    {
     "name": "stdout",
     "output_type": "stream",
     "text": [
      "Sequence encoding complete\n",
      "Sequence encoding complete\n",
      "\n",
      "Best model at epoch 0 with Val Loss: inf\n",
      "  MSE:               0.4753\n",
      "  R²:                -0.3214\n",
      "  Spearman Corr:     0.2552\n"
     ]
    },
    {
     "name": "stderr",
     "output_type": "stream",
     "text": [
      "/usr/local/lib/python3.11/dist-packages/torch/nn/functional.py:5962: UserWarning: Support for mismatched key_padding_mask and attn_mask is deprecated. Use same type for both instead.\n",
      "  warnings.warn(\n"
     ]
    },
    {
     "name": "stdout",
     "output_type": "stream",
     "text": [
      "Sequence encoding complete\n",
      "Sequence encoding complete\n",
      "\n",
      "Best model at epoch 0 with Val Loss: inf\n",
      "  MSE:               0.9400\n",
      "  R²:                0.2164\n",
      "  Spearman Corr:     0.5410\n"
     ]
    },
    {
     "name": "stderr",
     "output_type": "stream",
     "text": [
      "/usr/local/lib/python3.11/dist-packages/torch/nn/functional.py:5962: UserWarning: Support for mismatched key_padding_mask and attn_mask is deprecated. Use same type for both instead.\n",
      "  warnings.warn(\n"
     ]
    },
    {
     "name": "stdout",
     "output_type": "stream",
     "text": [
      "Sequence encoding complete\n",
      "Sequence encoding complete\n",
      "\n",
      "Best model at epoch 0 with Val Loss: inf\n",
      "  MSE:               0.2687\n",
      "  R²:                0.0062\n",
      "  Spearman Corr:     0.3008\n"
     ]
    },
    {
     "name": "stderr",
     "output_type": "stream",
     "text": [
      "/usr/local/lib/python3.11/dist-packages/torch/nn/functional.py:5962: UserWarning: Support for mismatched key_padding_mask and attn_mask is deprecated. Use same type for both instead.\n",
      "  warnings.warn(\n"
     ]
    },
    {
     "name": "stdout",
     "output_type": "stream",
     "text": [
      "Sequence encoding complete\n",
      "Sequence encoding complete\n",
      "\n",
      "Best model at epoch 0 with Val Loss: inf\n",
      "  MSE:               0.0928\n",
      "  R²:                0.3121\n",
      "  Spearman Corr:     0.5192\n"
     ]
    },
    {
     "name": "stderr",
     "output_type": "stream",
     "text": [
      "/usr/local/lib/python3.11/dist-packages/torch/nn/functional.py:5962: UserWarning: Support for mismatched key_padding_mask and attn_mask is deprecated. Use same type for both instead.\n",
      "  warnings.warn(\n"
     ]
    },
    {
     "name": "stdout",
     "output_type": "stream",
     "text": [
      "Sequence encoding complete\n",
      "Sequence encoding complete\n",
      "\n",
      "Best model at epoch 0 with Val Loss: inf\n",
      "  MSE:               0.3964\n",
      "  R²:                0.0025\n",
      "  Spearman Corr:     0.3450\n"
     ]
    },
    {
     "name": "stderr",
     "output_type": "stream",
     "text": [
      "/usr/local/lib/python3.11/dist-packages/torch/nn/functional.py:5962: UserWarning: Support for mismatched key_padding_mask and attn_mask is deprecated. Use same type for both instead.\n",
      "  warnings.warn(\n"
     ]
    },
    {
     "name": "stdout",
     "output_type": "stream",
     "text": [
      "Sequence encoding complete\n",
      "Sequence encoding complete\n",
      "\n",
      "Best model at epoch 0 with Val Loss: inf\n",
      "  MSE:               0.0002\n",
      "  R²:                0.1765\n",
      "  Spearman Corr:     0.3022\n"
     ]
    },
    {
     "name": "stderr",
     "output_type": "stream",
     "text": [
      "/usr/local/lib/python3.11/dist-packages/torch/nn/functional.py:5962: UserWarning: Support for mismatched key_padding_mask and attn_mask is deprecated. Use same type for both instead.\n",
      "  warnings.warn(\n"
     ]
    },
    {
     "name": "stdout",
     "output_type": "stream",
     "text": [
      "Sequence encoding complete\n",
      "Sequence encoding complete\n",
      "\n",
      "Best model at epoch 0 with Val Loss: inf\n",
      "  MSE:               0.0360\n",
      "  R²:                0.0749\n",
      "  Spearman Corr:     0.3743\n"
     ]
    },
    {
     "name": "stderr",
     "output_type": "stream",
     "text": [
      "/usr/local/lib/python3.11/dist-packages/torch/nn/functional.py:5962: UserWarning: Support for mismatched key_padding_mask and attn_mask is deprecated. Use same type for both instead.\n",
      "  warnings.warn(\n"
     ]
    },
    {
     "name": "stdout",
     "output_type": "stream",
     "text": [
      "Sequence encoding complete\n",
      "Sequence encoding complete\n",
      "\n",
      "Best model at epoch 0 with Val Loss: inf\n",
      "  MSE:               26.2311\n",
      "  R²:                0.0702\n",
      "  Spearman Corr:     0.4612\n"
     ]
    },
    {
     "name": "stderr",
     "output_type": "stream",
     "text": [
      "/usr/local/lib/python3.11/dist-packages/torch/nn/functional.py:5962: UserWarning: Support for mismatched key_padding_mask and attn_mask is deprecated. Use same type for both instead.\n",
      "  warnings.warn(\n"
     ]
    },
    {
     "name": "stdout",
     "output_type": "stream",
     "text": [
      "Sequence encoding complete\n",
      "Sequence encoding complete\n",
      "\n",
      "Best model at epoch 0 with Val Loss: inf\n",
      "  MSE:               0.7678\n",
      "  R²:                0.2300\n",
      "  Spearman Corr:     0.4893\n"
     ]
    },
    {
     "name": "stderr",
     "output_type": "stream",
     "text": [
      "/usr/local/lib/python3.11/dist-packages/torch/nn/functional.py:5962: UserWarning: Support for mismatched key_padding_mask and attn_mask is deprecated. Use same type for both instead.\n",
      "  warnings.warn(\n"
     ]
    },
    {
     "name": "stdout",
     "output_type": "stream",
     "text": [
      "Sequence encoding complete\n",
      "Sequence encoding complete\n",
      "\n",
      "Best model at epoch 0 with Val Loss: inf\n",
      "  MSE:               3.4513\n",
      "  R²:                0.1762\n",
      "  Spearman Corr:     0.3679\n"
     ]
    },
    {
     "name": "stderr",
     "output_type": "stream",
     "text": [
      "/usr/local/lib/python3.11/dist-packages/torch/nn/functional.py:5962: UserWarning: Support for mismatched key_padding_mask and attn_mask is deprecated. Use same type for both instead.\n",
      "  warnings.warn(\n"
     ]
    },
    {
     "name": "stdout",
     "output_type": "stream",
     "text": [
      "Sequence encoding complete\n",
      "Sequence encoding complete\n",
      "\n",
      "Best model at epoch 0 with Val Loss: inf\n",
      "  MSE:               0.0602\n",
      "  R²:                0.2707\n",
      "  Spearman Corr:     0.5060\n"
     ]
    },
    {
     "name": "stderr",
     "output_type": "stream",
     "text": [
      "/usr/local/lib/python3.11/dist-packages/torch/nn/functional.py:5962: UserWarning: Support for mismatched key_padding_mask and attn_mask is deprecated. Use same type for both instead.\n",
      "  warnings.warn(\n"
     ]
    },
    {
     "name": "stdout",
     "output_type": "stream",
     "text": [
      "Sequence encoding complete\n",
      "Sequence encoding complete\n",
      "\n",
      "Best model at epoch 0 with Val Loss: inf\n",
      "  MSE:               0.3094\n",
      "  R²:                0.2436\n",
      "  Spearman Corr:     0.5092\n"
     ]
    },
    {
     "name": "stderr",
     "output_type": "stream",
     "text": [
      "/usr/local/lib/python3.11/dist-packages/torch/nn/functional.py:5962: UserWarning: Support for mismatched key_padding_mask and attn_mask is deprecated. Use same type for both instead.\n",
      "  warnings.warn(\n"
     ]
    },
    {
     "name": "stdout",
     "output_type": "stream",
     "text": [
      "Sequence encoding complete\n",
      "Sequence encoding complete\n",
      "\n",
      "Best model at epoch 0 with Val Loss: inf\n",
      "  MSE:               2249.5002\n",
      "  R²:                -0.9207\n",
      "  Spearman Corr:     0.0680\n"
     ]
    },
    {
     "name": "stderr",
     "output_type": "stream",
     "text": [
      "/usr/local/lib/python3.11/dist-packages/torch/nn/functional.py:5962: UserWarning: Support for mismatched key_padding_mask and attn_mask is deprecated. Use same type for both instead.\n",
      "  warnings.warn(\n"
     ]
    },
    {
     "name": "stdout",
     "output_type": "stream",
     "text": [
      "Sequence encoding complete\n",
      "Sequence encoding complete\n",
      "\n",
      "Best model at epoch 0 with Val Loss: inf\n",
      "  MSE:               2.8139\n",
      "  R²:                -0.4942\n",
      "  Spearman Corr:     0.3692\n"
     ]
    },
    {
     "name": "stderr",
     "output_type": "stream",
     "text": [
      "/usr/local/lib/python3.11/dist-packages/torch/nn/functional.py:5962: UserWarning: Support for mismatched key_padding_mask and attn_mask is deprecated. Use same type for both instead.\n",
      "  warnings.warn(\n"
     ]
    },
    {
     "name": "stdout",
     "output_type": "stream",
     "text": [
      "Sequence encoding complete\n",
      "Sequence encoding complete\n",
      "\n",
      "Best model at epoch 0 with Val Loss: inf\n",
      "  MSE:               0.1112\n",
      "  R²:                0.1581\n",
      "  Spearman Corr:     0.3547\n"
     ]
    },
    {
     "name": "stderr",
     "output_type": "stream",
     "text": [
      "/usr/local/lib/python3.11/dist-packages/torch/nn/functional.py:5962: UserWarning: Support for mismatched key_padding_mask and attn_mask is deprecated. Use same type for both instead.\n",
      "  warnings.warn(\n"
     ]
    },
    {
     "name": "stdout",
     "output_type": "stream",
     "text": [
      "Sequence encoding complete\n",
      "Sequence encoding complete\n",
      "\n",
      "Best model at epoch 0 with Val Loss: inf\n",
      "  MSE:               0.0730\n",
      "  R²:                0.1267\n",
      "  Spearman Corr:     0.4470\n"
     ]
    },
    {
     "name": "stderr",
     "output_type": "stream",
     "text": [
      "/usr/local/lib/python3.11/dist-packages/torch/nn/functional.py:5962: UserWarning: Support for mismatched key_padding_mask and attn_mask is deprecated. Use same type for both instead.\n",
      "  warnings.warn(\n"
     ]
    },
    {
     "name": "stdout",
     "output_type": "stream",
     "text": [
      "Sequence encoding complete\n",
      "Sequence encoding complete\n",
      "\n",
      "Best model at epoch 0 with Val Loss: inf\n",
      "  MSE:               3.2442\n",
      "  R²:                0.6477\n",
      "  Spearman Corr:     0.8104\n"
     ]
    },
    {
     "name": "stderr",
     "output_type": "stream",
     "text": [
      "/usr/local/lib/python3.11/dist-packages/torch/nn/functional.py:5962: UserWarning: Support for mismatched key_padding_mask and attn_mask is deprecated. Use same type for both instead.\n",
      "  warnings.warn(\n"
     ]
    },
    {
     "name": "stdout",
     "output_type": "stream",
     "text": [
      "Sequence encoding complete\n",
      "Sequence encoding complete\n",
      "\n",
      "Best model at epoch 0 with Val Loss: inf\n",
      "  MSE:               0.0050\n",
      "  R²:                0.0165\n",
      "  Spearman Corr:     0.3314\n"
     ]
    },
    {
     "name": "stderr",
     "output_type": "stream",
     "text": [
      "/usr/local/lib/python3.11/dist-packages/torch/nn/functional.py:5962: UserWarning: Support for mismatched key_padding_mask and attn_mask is deprecated. Use same type for both instead.\n",
      "  warnings.warn(\n"
     ]
    },
    {
     "name": "stdout",
     "output_type": "stream",
     "text": [
      "Sequence encoding complete\n",
      "Sequence encoding complete\n",
      "\n",
      "Best model at epoch 0 with Val Loss: inf\n",
      "  MSE:               0.1275\n",
      "  R²:                0.0312\n",
      "  Spearman Corr:     0.3217\n"
     ]
    },
    {
     "name": "stderr",
     "output_type": "stream",
     "text": [
      "/usr/local/lib/python3.11/dist-packages/torch/nn/functional.py:5962: UserWarning: Support for mismatched key_padding_mask and attn_mask is deprecated. Use same type for both instead.\n",
      "  warnings.warn(\n"
     ]
    },
    {
     "name": "stdout",
     "output_type": "stream",
     "text": [
      "Sequence encoding complete\n",
      "Sequence encoding complete\n",
      "\n",
      "Best model at epoch 0 with Val Loss: inf\n",
      "  MSE:               0.3690\n",
      "  R²:                0.1280\n",
      "  Spearman Corr:     0.3897\n"
     ]
    },
    {
     "name": "stderr",
     "output_type": "stream",
     "text": [
      "/usr/local/lib/python3.11/dist-packages/torch/nn/functional.py:5962: UserWarning: Support for mismatched key_padding_mask and attn_mask is deprecated. Use same type for both instead.\n",
      "  warnings.warn(\n"
     ]
    },
    {
     "name": "stdout",
     "output_type": "stream",
     "text": [
      "Sequence encoding complete\n",
      "Sequence encoding complete\n",
      "\n",
      "Best model at epoch 0 with Val Loss: inf\n",
      "  MSE:               1.2116\n",
      "  R²:                0.2554\n",
      "  Spearman Corr:     0.5250\n"
     ]
    },
    {
     "name": "stderr",
     "output_type": "stream",
     "text": [
      "/usr/local/lib/python3.11/dist-packages/torch/nn/functional.py:5962: UserWarning: Support for mismatched key_padding_mask and attn_mask is deprecated. Use same type for both instead.\n",
      "  warnings.warn(\n"
     ]
    },
    {
     "name": "stdout",
     "output_type": "stream",
     "text": [
      "Sequence encoding complete\n",
      "Sequence encoding complete\n",
      "\n",
      "Best model at epoch 0 with Val Loss: inf\n",
      "  MSE:               0.1036\n",
      "  R²:                -0.4138\n",
      "  Spearman Corr:     0.3681\n"
     ]
    },
    {
     "name": "stderr",
     "output_type": "stream",
     "text": [
      "/usr/local/lib/python3.11/dist-packages/torch/nn/functional.py:5962: UserWarning: Support for mismatched key_padding_mask and attn_mask is deprecated. Use same type for both instead.\n",
      "  warnings.warn(\n"
     ]
    },
    {
     "name": "stdout",
     "output_type": "stream",
     "text": [
      "Sequence encoding complete\n",
      "Sequence encoding complete\n",
      "\n",
      "Best model at epoch 0 with Val Loss: inf\n",
      "  MSE:               1.0767\n",
      "  R²:                0.0546\n",
      "  Spearman Corr:     0.3730\n"
     ]
    },
    {
     "name": "stderr",
     "output_type": "stream",
     "text": [
      "/usr/local/lib/python3.11/dist-packages/torch/nn/functional.py:5962: UserWarning: Support for mismatched key_padding_mask and attn_mask is deprecated. Use same type for both instead.\n",
      "  warnings.warn(\n"
     ]
    },
    {
     "name": "stdout",
     "output_type": "stream",
     "text": [
      "Sequence encoding complete\n",
      "Sequence encoding complete\n",
      "\n",
      "Best model at epoch 0 with Val Loss: inf\n",
      "  MSE:               0.3629\n",
      "  R²:                -0.0270\n",
      "  Spearman Corr:     0.1176\n"
     ]
    },
    {
     "name": "stderr",
     "output_type": "stream",
     "text": [
      "/usr/local/lib/python3.11/dist-packages/torch/nn/functional.py:5962: UserWarning: Support for mismatched key_padding_mask and attn_mask is deprecated. Use same type for both instead.\n",
      "  warnings.warn(\n"
     ]
    },
    {
     "name": "stdout",
     "output_type": "stream",
     "text": [
      "Sequence encoding complete\n",
      "Sequence encoding complete\n",
      "\n",
      "Best model at epoch 0 with Val Loss: inf\n",
      "  MSE:               0.0478\n",
      "  R²:                0.3229\n",
      "  Spearman Corr:     0.5813\n"
     ]
    },
    {
     "name": "stderr",
     "output_type": "stream",
     "text": [
      "/usr/local/lib/python3.11/dist-packages/torch/nn/functional.py:5962: UserWarning: Support for mismatched key_padding_mask and attn_mask is deprecated. Use same type for both instead.\n",
      "  warnings.warn(\n"
     ]
    },
    {
     "name": "stdout",
     "output_type": "stream",
     "text": [
      "Sequence encoding complete\n",
      "Sequence encoding complete\n",
      "\n",
      "Best model at epoch 0 with Val Loss: inf\n",
      "  MSE:               1.1749\n",
      "  R²:                0.6251\n",
      "  Spearman Corr:     0.7907\n"
     ]
    },
    {
     "name": "stderr",
     "output_type": "stream",
     "text": [
      "/usr/local/lib/python3.11/dist-packages/torch/nn/functional.py:5962: UserWarning: Support for mismatched key_padding_mask and attn_mask is deprecated. Use same type for both instead.\n",
      "  warnings.warn(\n"
     ]
    },
    {
     "name": "stdout",
     "output_type": "stream",
     "text": [
      "Sequence encoding complete\n",
      "Sequence encoding complete\n",
      "\n",
      "Best model at epoch 0 with Val Loss: inf\n",
      "  MSE:               0.1361\n",
      "  R²:                0.1473\n",
      "  Spearman Corr:     0.5217\n"
     ]
    },
    {
     "name": "stderr",
     "output_type": "stream",
     "text": [
      "/usr/local/lib/python3.11/dist-packages/torch/nn/functional.py:5962: UserWarning: Support for mismatched key_padding_mask and attn_mask is deprecated. Use same type for both instead.\n",
      "  warnings.warn(\n"
     ]
    },
    {
     "name": "stdout",
     "output_type": "stream",
     "text": [
      "Sequence encoding complete\n",
      "Sequence encoding complete\n",
      "\n",
      "Best model at epoch 0 with Val Loss: inf\n",
      "  MSE:               0.0935\n",
      "  R²:                0.4502\n",
      "  Spearman Corr:     0.6700\n"
     ]
    },
    {
     "name": "stderr",
     "output_type": "stream",
     "text": [
      "/usr/local/lib/python3.11/dist-packages/torch/nn/functional.py:5962: UserWarning: Support for mismatched key_padding_mask and attn_mask is deprecated. Use same type for both instead.\n",
      "  warnings.warn(\n"
     ]
    },
    {
     "name": "stdout",
     "output_type": "stream",
     "text": [
      "Sequence encoding complete\n",
      "Sequence encoding complete\n",
      "\n",
      "Best model at epoch 0 with Val Loss: inf\n",
      "  MSE:               0.1027\n",
      "  R²:                0.3108\n",
      "  Spearman Corr:     0.5492\n"
     ]
    },
    {
     "name": "stderr",
     "output_type": "stream",
     "text": [
      "/usr/local/lib/python3.11/dist-packages/torch/nn/functional.py:5962: UserWarning: Support for mismatched key_padding_mask and attn_mask is deprecated. Use same type for both instead.\n",
      "  warnings.warn(\n"
     ]
    },
    {
     "name": "stdout",
     "output_type": "stream",
     "text": [
      "Sequence encoding complete\n",
      "Sequence encoding complete\n",
      "\n",
      "Best model at epoch 0 with Val Loss: inf\n",
      "  MSE:               3.1477\n",
      "  R²:                0.2676\n",
      "  Spearman Corr:     0.5292\n"
     ]
    },
    {
     "name": "stderr",
     "output_type": "stream",
     "text": [
      "/usr/local/lib/python3.11/dist-packages/torch/nn/functional.py:5962: UserWarning: Support for mismatched key_padding_mask and attn_mask is deprecated. Use same type for both instead.\n",
      "  warnings.warn(\n"
     ]
    },
    {
     "name": "stdout",
     "output_type": "stream",
     "text": [
      "Sequence encoding complete\n",
      "Sequence encoding complete\n",
      "\n",
      "Best model at epoch 0 with Val Loss: inf\n",
      "  MSE:               0.0615\n",
      "  R²:                0.6045\n",
      "  Spearman Corr:     0.7857\n"
     ]
    },
    {
     "name": "stderr",
     "output_type": "stream",
     "text": [
      "/usr/local/lib/python3.11/dist-packages/torch/nn/functional.py:5962: UserWarning: Support for mismatched key_padding_mask and attn_mask is deprecated. Use same type for both instead.\n",
      "  warnings.warn(\n"
     ]
    },
    {
     "name": "stdout",
     "output_type": "stream",
     "text": [
      "Sequence encoding complete\n",
      "Sequence encoding complete\n",
      "\n",
      "Best model at epoch 0 with Val Loss: inf\n",
      "  MSE:               0.9364\n",
      "  R²:                -0.1245\n",
      "  Spearman Corr:     0.2520\n"
     ]
    },
    {
     "name": "stderr",
     "output_type": "stream",
     "text": [
      "/usr/local/lib/python3.11/dist-packages/torch/nn/functional.py:5962: UserWarning: Support for mismatched key_padding_mask and attn_mask is deprecated. Use same type for both instead.\n",
      "  warnings.warn(\n"
     ]
    },
    {
     "name": "stdout",
     "output_type": "stream",
     "text": [
      "Sequence encoding complete\n",
      "Sequence encoding complete\n",
      "\n",
      "Best model at epoch 0 with Val Loss: inf\n",
      "  MSE:               0.0519\n",
      "  R²:                0.2120\n",
      "  Spearman Corr:     0.3279\n",
      "0.6885984690686742\n"
     ]
    }
   ],
   "source": [
    "import random\n",
    "import numpy as np\n",
    "import torch\n",
    "import torch.nn as nn\n",
    "from torch.utils.data import TensorDataset, DataLoader, random_split\n",
    "from vae_module import Config, Tokenizer, load_vae, encode_long_batch\n",
    "from sklearn.preprocessing import StandardScaler\n",
    "from sklearn.metrics import mean_squared_error, r2_score\n",
    "from scipy.stats import spearmanr\n",
    "rho=[]\n",
    "lmse=[]\n",
    "r_sq=[]\n",
    "# --- 4. 모델 정의 ---\n",
    "class MLPRegressor(nn.Module):\n",
    "    def __init__(self, in_dim: int):\n",
    "        super().__init__()\n",
    "        self.net = nn.Sequential(\n",
    "            nn.Linear(in_dim, 256),\n",
    "            nn.ReLU(),\n",
    "            nn.Dropout(0.2),\n",
    "            nn.Linear(256, 128),\n",
    "            nn.ReLU(),\n",
    "            nn.Dropout(0.2),\n",
    "            nn.Linear(128, 1),\n",
    "        )\n",
    "    def forward(self, x: torch.Tensor) -> torch.Tensor:\n",
    "        return self.net(x)\n",
    "device = \"cuda\" if torch.cuda.is_available() else \"cpu\"\n",
    "cfg = Config(model_path=\"models/vae_epoch380.pt\", device=device)\n",
    "tokenizer = Tokenizer.from_esm()\n",
    "model = load_vae(\n",
    "        cfg,\n",
    "        vocab_size=len(tokenizer.vocab),\n",
    "        pad_idx=tokenizer.pad_idx,\n",
    "        bos_idx=tokenizer.bos_idx,\n",
    "    )\n",
    "print('loaded vae')\n",
    "if device == \"cuda\" and torch.cuda.device_count() > 1:\n",
    "        model = torch.nn.DataParallel(model)\n",
    "\n",
    "for i in  range(len(csv_path)):\n",
    "    df=pd.read_csv(csv_path[i])\n",
    "    df['sequence']=df['mutated_sequence']\n",
    "    df=df[['sequence','DMS_score']]\n",
    "    \n",
    "\n",
    "    \"\"\"Generate long sequences, encode them, and train a small MLP.\"\"\"\n",
    "    \n",
    "    \n",
    "    sequences = df['sequence'].to_list()\n",
    "    latent_stacks = encode_long_batch(model, sequences, tokenizer, cfg.max_len, overlap=256)\n",
    "    Z = torch.stack([stack.mean(dim=0) for stack in latent_stacks]).cpu().numpy()\n",
    "    \n",
    "    dms = df['DMS_score'].to_list()\n",
    "    y = np.array(dms, dtype=np.float32).reshape(-1,1)  # (n_samples, 1)\n",
    "    print('Sequence encoding complete')\n",
    "    sequences = df['sequence'].to_list()\n",
    "    latent_stacks = encode_long_batch(model, sequences, tokenizer, cfg.max_len, overlap=256)\n",
    "    Z = torch.stack([stack.mean(dim=0) for stack in latent_stacks]).cpu().numpy()\n",
    "    \n",
    "    dms = df['DMS_score'].to_list()\n",
    "    y = np.array(dms, dtype=np.float32).reshape(-1,1)  # (n_samples, 1)\n",
    "    print('Sequence encoding complete')\n",
    "    X=Z\n",
    "    # --- 2. 스케일링 ---\n",
    "    X_scaler = StandardScaler()\n",
    "    y_scaler = StandardScaler()\n",
    "    \n",
    "    # train/val split 전에 전체 데이터 스케일러에 fit – \n",
    "    # (데이터 누수를 우려하면 train만 fit 후 transform, val만 transform 해도 됩니다)\n",
    "    X_scaled = X_scaler.fit_transform(X)\n",
    "    y_scaled = y_scaler.fit_transform(y)\n",
    "    \n",
    "    # --- 3. Tensor 변환 및 Dataset 분할 ---\n",
    "    X_tensor = torch.from_numpy(X_scaled).float()\n",
    "    y_tensor = torch.from_numpy(y_scaled).float()\n",
    "    \n",
    "    dataset = TensorDataset(X_tensor, y_tensor)\n",
    "    train_size = int(len(dataset) * 0.8)\n",
    "    val_size   = len(dataset) - train_size\n",
    "    train_ds, val_ds = random_split(dataset, [train_size, val_size])\n",
    "    \n",
    "    batch_size = 32\n",
    "    train_loader = DataLoader(train_ds, batch_size=batch_size, shuffle=True)\n",
    "    val_loader   = DataLoader(val_ds,   batch_size=batch_size)\n",
    "    reg = MLPRegressor(in_dim=X.shape[1]).to(device)\n",
    "    criterion = nn.MSELoss()\n",
    "    optimizer = torch.optim.Adam(reg.parameters(), lr=1e-3)\n",
    "    \n",
    "    \n",
    "    num_epochs = 300\n",
    "    best_val_loss = float('inf')\n",
    "    best_epoch = 0\n",
    "    save_path = f\"/kaggle/working/{to_do[i]}_best_model.pth\"\n",
    "    \n",
    "    for epoch in range(1, num_epochs + 1):\n",
    "        # --- train ---\n",
    "        reg.train()\n",
    "        train_loss = 0.0\n",
    "        for xb, yb in train_loader:\n",
    "            xb, yb = xb.to(device), yb.to(device)\n",
    "            pred = reg(xb)\n",
    "            loss = criterion(pred, yb)\n",
    "            optimizer.zero_grad()\n",
    "            loss.backward()\n",
    "            optimizer.step()\n",
    "            train_loss += loss.item() * xb.size(0)\n",
    "        train_loss /= len(train_loader.dataset)\n",
    "    \n",
    "        # --- validation ---\n",
    "        reg.eval()\n",
    "        val_loss = 0.0\n",
    "        with torch.no_grad():\n",
    "            for xb, yb in val_loader:\n",
    "                xb, yb = xb.to(device), yb.to(device)\n",
    "                pred = reg(xb)\n",
    "                val_loss += criterion(pred, yb).item() * xb.size(0)\n",
    "        val_loss /= len(val_loader.dataset)\n",
    "    \n",
    "    \n",
    "    print(f\"\\nBest model at epoch {best_epoch} with Val Loss: {best_val_loss:.4f}\")\n",
    "    \n",
    "    \n",
    "\n",
    "    # 2) 평가 모드\n",
    "    reg.eval()\n",
    "    y_true_scaled, y_pred_scaled = [], []\n",
    "\n",
    "    with torch.no_grad():\n",
    "        for xb, yb in val_loader:\n",
    "            xb = xb.to(device)\n",
    "            preds = reg(xb).cpu().numpy().flatten()\n",
    "            y_pred_scaled.extend(preds)\n",
    "            y_true_scaled.extend(yb.cpu().numpy().flatten())\n",
    "    \n",
    "    y_true_scaled = np.array(y_true_scaled).reshape(-1, 1)\n",
    "    y_pred_scaled = np.array(y_pred_scaled).reshape(-1, 1)\n",
    "    \n",
    "    # 3) 스케일 역변환\n",
    "    y_true = y_scaler.inverse_transform(y_true_scaled).flatten()\n",
    "    y_pred = y_scaler.inverse_transform(y_pred_scaled).flatten()\n",
    "    \n",
    "    # 4) 지표 계산\n",
    "    mse   = mean_squared_error(y_true, y_pred)\n",
    "    r2    = r2_score(y_true, y_pred)\n",
    "    spearman_corr, _ = spearmanr(y_true, y_pred)\n",
    "    print(f\"  MSE:               {mse:.4f}\")\n",
    "    print(f\"  R²:                {r2:.4f}\")\n",
    "    print(f\"  Spearman Corr:     {spearman_corr:.4f}\")\n",
    "    rho.append(spearman_corr)\n",
    "    lmse.append(mse)\n",
    "    r_sq.append(r2)\n",
    "    \n",
    "df1=pd.DataFrame({'DMS_id':to_do,'Spearman':rho,'MSE':lmse})\n",
    "\n",
    "\n",
    "df = pd.concat([df1, vae_df], ignore_index=True)\n",
    "df.to_csv('/kaggle/working/dms_score.csv')\n",
    "print(df['Spearman'].mean())"
   ]
  }
 ],
 "metadata": {
  "kaggle": {
   "accelerator": "gpu",
   "dataSources": [
    {
     "datasetId": 7692773,
     "sourceId": 12211620,
     "sourceType": "datasetVersion"
    },
    {
     "datasetId": 7725728,
     "sourceId": 12260193,
     "sourceType": "datasetVersion"
    },
    {
     "datasetId": 7731605,
     "sourceId": 12269356,
     "sourceType": "datasetVersion"
    }
   ],
   "dockerImageVersionId": 31041,
   "isGpuEnabled": true,
   "isInternetEnabled": true,
   "language": "python",
   "sourceType": "notebook"
  },
  "kernelspec": {
   "display_name": "Python 3",
   "language": "python",
   "name": "python3"
  },
  "language_info": {
   "codemirror_mode": {
    "name": "ipython",
    "version": 3
   },
   "file_extension": ".py",
   "mimetype": "text/x-python",
   "name": "python",
   "nbconvert_exporter": "python",
   "pygments_lexer": "ipython3",
   "version": "3.11.11"
  },
  "papermill": {
   "default_parameters": {},
   "duration": 16870.982303,
   "end_time": "2025-06-27T10:16:25.785614",
   "environment_variables": {},
   "exception": null,
   "input_path": "__notebook__.ipynb",
   "output_path": "__notebook__.ipynb",
   "parameters": {},
   "start_time": "2025-06-27T05:35:14.803311",
   "version": "2.6.0"
  }
 },
 "nbformat": 4,
 "nbformat_minor": 5
}
